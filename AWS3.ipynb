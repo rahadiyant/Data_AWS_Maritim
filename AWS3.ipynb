{
  "nbformat": 4,
  "nbformat_minor": 0,
  "metadata": {
    "colab": {
      "provenance": [],
      "authorship_tag": "ABX9TyM0cm8s7/89WJhmnhkVYhHE",
      "include_colab_link": true
    },
    "kernelspec": {
      "name": "python3",
      "display_name": "Python 3"
    },
    "language_info": {
      "name": "python"
    }
  },
  "cells": [
    {
      "cell_type": "markdown",
      "metadata": {
        "id": "view-in-github",
        "colab_type": "text"
      },
      "source": [
        "<a href=\"https://colab.research.google.com/github/rahadiyant/Data_AWS_Maritim/blob/main/AWS3.ipynb\" target=\"_parent\"><img src=\"https://colab.research.google.com/assets/colab-badge.svg\" alt=\"Open In Colab\"/></a>"
      ]
    },
    {
      "cell_type": "code",
      "execution_count": null,
      "metadata": {
        "id": "9F9071YHsHFp"
      },
      "outputs": [],
      "source": [
        "!pip install streamlit==1.27.0"
      ]
    },
    {
      "cell_type": "code",
      "source": [
        "!pip install pandas\n",
        "!pip install matplotlib\n",
        "!pip install scikit-learn\n",
        "!pip install scipy\n",
        "!pip install plotly\n",
        "!pip install openpyxl"
      ],
      "metadata": {
        "id": "_HCjddwBsJ5V"
      },
      "execution_count": null,
      "outputs": []
    },
    {
      "cell_type": "code",
      "source": [
        "%%writefile aws3.py\n",
        "import streamlit as st\n",
        "import pandas as pd\n",
        "import numpy as np\n",
        "from sklearn.model_selection import train_test_split\n",
        "from sklearn.ensemble import RandomForestClassifier, RandomForestRegressor\n",
        "from sklearn.metrics import accuracy_score, classification_report, mean_squared_error, r2_score\n",
        "import matplotlib.pyplot as plt\n",
        "from mpl_toolkits.mplot3d import Axes3D\n",
        "\n",
        "# Judul aplikasi\n",
        "st.title('Random Forest untuk Data AWS Maritim')\n",
        "\n",
        "# Load data\n",
        "@st.cache_data\n",
        "def load_data():\n",
        "    url = \"https://github.com/rahadiyant/Data_AWS_Maritim/raw/main/1_thn_Data_AWS_Maritim.xlsx\"\n",
        "    return pd.read_excel(url)\n",
        "\n",
        "data = load_data()\n",
        "\n",
        "# Tampilkan data\n",
        "st.subheader('Data Preview')\n",
        "st.write(data.head())\n",
        "\n",
        "# Pilih fitur dan target\n",
        "st.sidebar.header('Pilih Fitur dan Target')\n",
        "numeric_columns = data.select_dtypes(include=[np.number]).columns.tolist()\n",
        "features = st.sidebar.multiselect('Pilih fitur', numeric_columns)\n",
        "target = st.sidebar.selectbox('Pilih target', numeric_columns)\n",
        "\n",
        "if features and target:\n",
        "    X = data[features]\n",
        "    y = data[target]\n",
        "\n",
        "    # Check if target is continuous or categorical\n",
        "    is_continuous = len(np.unique(y)) > 10  # Arbitrary threshold, adjust as needed\n",
        "\n",
        "    # Split data\n",
        "    X_train, X_test, y_train, y_test = train_test_split(X, y, test_size=0.2, random_state=42)\n",
        "\n",
        "    # Train model\n",
        "    n_estimators = st.sidebar.slider('Jumlah trees', 10, 200, 100)\n",
        "    max_depth = st.sidebar.slider('Max depth', 1, 20, 5)\n",
        "\n",
        "    if is_continuous:\n",
        "        model = RandomForestRegressor(n_estimators=n_estimators, max_depth=max_depth, random_state=42)\n",
        "    else:\n",
        "        model = RandomForestClassifier(n_estimators=n_estimators, max_depth=max_depth, random_state=42)\n",
        "\n",
        "    model.fit(X_train, y_train)\n",
        "\n",
        "    # Prediksi\n",
        "    y_pred = model.predict(X_test)\n",
        "\n",
        "    # Evaluasi model\n",
        "    if is_continuous:\n",
        "        mse = mean_squared_error(y_test, y_pred)\n",
        "        r2 = r2_score(y_test, y_pred)\n",
        "        st.subheader('Model Performance')\n",
        "        st.write(f'Mean Squared Error: {mse:.2f}')\n",
        "        st.write(f'R-squared: {r2:.2f}')\n",
        "    else:\n",
        "        accuracy = accuracy_score(y_test, y_pred)\n",
        "        st.subheader('Model Accuracy')\n",
        "        st.write(f'Accuracy: {accuracy:.2f}')\n",
        "        st.subheader('Classification Report')\n",
        "        st.text(classification_report(y_test, y_pred))\n",
        "\n",
        "    # Feature importance\n",
        "    st.subheader('Feature Importance')\n",
        "    feature_importance = pd.DataFrame({'feature': features, 'importance': model.feature_importances_})\n",
        "    feature_importance = feature_importance.sort_values('importance', ascending=False)\n",
        "    st.bar_chart(feature_importance.set_index('feature'))\n",
        "\n",
        "    # 2D Scatter Plot\n",
        "    st.subheader('2D Scatter Plot')\n",
        "    if len(features) >= 2:\n",
        "        fig, ax = plt.subplots()\n",
        "        scatter = ax.scatter(X[features[0]], X[features[1]], c=y, cmap='viridis')\n",
        "        plt.colorbar(scatter)\n",
        "        plt.xlabel(features[0])\n",
        "        plt.ylabel(features[1])\n",
        "        st.pyplot(fig)\n",
        "\n",
        "    # 3D Scatter Plot\n",
        "    st.subheader('3D Scatter Plot')\n",
        "    if len(features) >= 3:\n",
        "        fig = plt.figure(figsize=(10, 8))\n",
        "        ax = fig.add_subplot(111, projection='3d')\n",
        "        scatter = ax.scatter(X[features[0]], X[features[1]], X[features[2]], c=y, cmap='viridis')\n",
        "        ax.set_xlabel(features[0])\n",
        "        ax.set_ylabel(features[1])\n",
        "        ax.set_zlabel(features[2])\n",
        "        plt.colorbar(scatter)\n",
        "        st.pyplot(fig)\n",
        "\n",
        "    # Prediksi dengan input user\n",
        "    st.subheader('Prediksi')\n",
        "    user_input = {}\n",
        "    for feature in features:\n",
        "        user_input[feature] = st.number_input(f'Input {feature}', value=X[feature].mean())\n",
        "\n",
        "    if st.button('Prediksi'):\n",
        "        user_df = pd.DataFrame([user_input])\n",
        "        prediction = model.predict(user_df)\n",
        "        st.write(f'Prediksi: {prediction[0]}')\n",
        "\n",
        "else:\n",
        "    st.write('Silakan pilih fitur dan target di sidebar.')"
      ],
      "metadata": {
        "id": "3H-Cr09RsM-P"
      },
      "execution_count": null,
      "outputs": []
    },
    {
      "cell_type": "code",
      "source": [
        "!streamlit run aws3.py & npx localtunnel --port 8501"
      ],
      "metadata": {
        "id": "wSOuAChZsqmC"
      },
      "execution_count": null,
      "outputs": []
    }
  ]
}