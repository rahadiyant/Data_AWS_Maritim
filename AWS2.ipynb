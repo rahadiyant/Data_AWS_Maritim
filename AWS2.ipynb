{
  "nbformat": 4,
  "nbformat_minor": 0,
  "metadata": {
    "colab": {
      "provenance": [],
      "authorship_tag": "ABX9TyNAdiWlkuavkLlu7j1v6N0x",
      "include_colab_link": true
    },
    "kernelspec": {
      "name": "python3",
      "display_name": "Python 3"
    },
    "language_info": {
      "name": "python"
    }
  },
  "cells": [
    {
      "cell_type": "markdown",
      "metadata": {
        "id": "view-in-github",
        "colab_type": "text"
      },
      "source": [
        "<a href=\"https://colab.research.google.com/github/rahadiyant/Data_AWS_Maritim/blob/main/AWS2.ipynb\" target=\"_parent\"><img src=\"https://colab.research.google.com/assets/colab-badge.svg\" alt=\"Open In Colab\"/></a>"
      ]
    },
    {
      "cell_type": "code",
      "execution_count": null,
      "metadata": {
        "id": "Osazd9annM13",
        "collapsed": true
      },
      "outputs": [],
      "source": [
        "!pip install streamlit==1.27.0"
      ]
    },
    {
      "cell_type": "code",
      "source": [
        "!pip install pandas\n",
        "!pip install matplotlib\n",
        "!pip install scikit-learn\n",
        "!pip install scipy\n",
        "!pip install plotly\n",
        "!pip install openpyxl"
      ],
      "metadata": {
        "colab": {
          "base_uri": "https://localhost:8080/"
        },
        "id": "586McqPXnYtn",
        "outputId": "748dcc94-7c36-478c-a4a7-23d84cee5e7b",
        "collapsed": true
      },
      "execution_count": null,
      "outputs": [
        {
          "output_type": "stream",
          "name": "stdout",
          "text": [
            "Requirement already satisfied: pandas in /usr/local/lib/python3.10/dist-packages (2.0.3)\n",
            "Requirement already satisfied: python-dateutil>=2.8.2 in /usr/local/lib/python3.10/dist-packages (from pandas) (2.8.2)\n",
            "Requirement already satisfied: pytz>=2020.1 in /usr/local/lib/python3.10/dist-packages (from pandas) (2023.4)\n",
            "Requirement already satisfied: tzdata>=2022.1 in /usr/local/lib/python3.10/dist-packages (from pandas) (2024.1)\n",
            "Requirement already satisfied: numpy>=1.21.0 in /usr/local/lib/python3.10/dist-packages (from pandas) (1.25.2)\n",
            "Requirement already satisfied: six>=1.5 in /usr/local/lib/python3.10/dist-packages (from python-dateutil>=2.8.2->pandas) (1.16.0)\n",
            "Requirement already satisfied: matplotlib in /usr/local/lib/python3.10/dist-packages (3.7.1)\n",
            "Requirement already satisfied: contourpy>=1.0.1 in /usr/local/lib/python3.10/dist-packages (from matplotlib) (1.2.1)\n",
            "Requirement already satisfied: cycler>=0.10 in /usr/local/lib/python3.10/dist-packages (from matplotlib) (0.12.1)\n",
            "Requirement already satisfied: fonttools>=4.22.0 in /usr/local/lib/python3.10/dist-packages (from matplotlib) (4.53.0)\n",
            "Requirement already satisfied: kiwisolver>=1.0.1 in /usr/local/lib/python3.10/dist-packages (from matplotlib) (1.4.5)\n",
            "Requirement already satisfied: numpy>=1.20 in /usr/local/lib/python3.10/dist-packages (from matplotlib) (1.25.2)\n",
            "Requirement already satisfied: packaging>=20.0 in /usr/local/lib/python3.10/dist-packages (from matplotlib) (23.2)\n",
            "Requirement already satisfied: pillow>=6.2.0 in /usr/local/lib/python3.10/dist-packages (from matplotlib) (9.4.0)\n",
            "Requirement already satisfied: pyparsing>=2.3.1 in /usr/local/lib/python3.10/dist-packages (from matplotlib) (3.1.2)\n",
            "Requirement already satisfied: python-dateutil>=2.7 in /usr/local/lib/python3.10/dist-packages (from matplotlib) (2.8.2)\n",
            "Requirement already satisfied: six>=1.5 in /usr/local/lib/python3.10/dist-packages (from python-dateutil>=2.7->matplotlib) (1.16.0)\n",
            "Requirement already satisfied: scikit-learn in /usr/local/lib/python3.10/dist-packages (1.2.2)\n",
            "Requirement already satisfied: numpy>=1.17.3 in /usr/local/lib/python3.10/dist-packages (from scikit-learn) (1.25.2)\n",
            "Requirement already satisfied: scipy>=1.3.2 in /usr/local/lib/python3.10/dist-packages (from scikit-learn) (1.11.4)\n",
            "Requirement already satisfied: joblib>=1.1.1 in /usr/local/lib/python3.10/dist-packages (from scikit-learn) (1.4.2)\n",
            "Requirement already satisfied: threadpoolctl>=2.0.0 in /usr/local/lib/python3.10/dist-packages (from scikit-learn) (3.5.0)\n",
            "Requirement already satisfied: scipy in /usr/local/lib/python3.10/dist-packages (1.11.4)\n",
            "Requirement already satisfied: numpy<1.28.0,>=1.21.6 in /usr/local/lib/python3.10/dist-packages (from scipy) (1.25.2)\n",
            "Requirement already satisfied: plotly in /usr/local/lib/python3.10/dist-packages (5.15.0)\n",
            "Requirement already satisfied: tenacity>=6.2.0 in /usr/local/lib/python3.10/dist-packages (from plotly) (8.4.1)\n",
            "Requirement already satisfied: packaging in /usr/local/lib/python3.10/dist-packages (from plotly) (23.2)\n",
            "Requirement already satisfied: openpyxl in /usr/local/lib/python3.10/dist-packages (3.1.4)\n",
            "Requirement already satisfied: et-xmlfile in /usr/local/lib/python3.10/dist-packages (from openpyxl) (1.1.0)\n"
          ]
        }
      ]
    },
    {
      "cell_type": "code",
      "source": [
        "%%writefile aws2.py\n",
        "import streamlit as st\n",
        "import pandas as pd\n",
        "import plotly.express as px\n",
        "\n",
        "# Define the Streamlit app\n",
        "def streamlit_app():\n",
        "    # Set page title\n",
        "    st.set_page_config(page_title=\"Visualisasi Data AWS Maritim\")\n",
        "\n",
        "    # Add a title\n",
        "    st.title(\"Visualisasi Data AWS Maritim\")\n",
        "\n",
        "    # Load the data\n",
        "    @st.cache_data\n",
        "    def load_data():\n",
        "        url = \"https://github.com/rahadiyant/Data_AWS_Maritim/raw/main/1_thn_Data_AWS_Maritim.xlsx\"\n",
        "        df = pd.read_excel(url)\n",
        "        # Convert 'waktu' column to datetime, specifying the format and setting dayfirst=True\n",
        "        df['waktu'] = pd.to_datetime(df['waktu'], format='%d/%m/%Y %H:%M:%S', dayfirst=True)\n",
        "        return df\n",
        "\n",
        "    df = load_data()\n",
        "\n",
        "    # Display raw data\n",
        "    if st.checkbox(\"Tampilkan data mentah\"):\n",
        "        st.subheader(\"Data Mentah\")\n",
        "        st.write(df)\n",
        "\n",
        "    # Sidebar for user input\n",
        "    st.sidebar.header(\"Filter Data\")\n",
        "    selected_column = st.sidebar.selectbox(\"Pilih kolom untuk divisualisasikan\", df.columns[1:])\n",
        "\n",
        "    # Add date range selector\n",
        "    st.sidebar.header(\"Rentang Waktu\")\n",
        "    start_date = st.sidebar.date_input(\"Tanggal Mulai\", df['waktu'].min().date())\n",
        "    end_date = st.sidebar.date_input(\"Tanggal Akhir\", df['waktu'].max().date())\n",
        "\n",
        "    # Filter data based on date range\n",
        "    mask = (df['waktu'].dt.date >= start_date) & (df['waktu'].dt.date <= end_date)\n",
        "    filtered_df = df.loc[mask]\n",
        "\n",
        "    # Create a line plot\n",
        "    st.subheader(f\"Grafik Garis {selected_column}\")\n",
        "    fig = px.line(filtered_df, x='waktu', y=selected_column)\n",
        "    st.plotly_chart(fig, use_container_width=True)\n",
        "\n",
        "    # Create a histogram\n",
        "    st.subheader(f\"Histogram {selected_column}\")\n",
        "    fig_hist = px.histogram(filtered_df, x=selected_column)\n",
        "    st.plotly_chart(fig_hist, use_container_width=True)\n",
        "\n",
        "    # Display basic statistics\n",
        "    st.subheader(\"Statistik Dasar\")\n",
        "    st.write(filtered_df[selected_column].describe())\n",
        "\n",
        "    # Correlation heatmap\n",
        "    st.subheader(\"Peta Panas Korelasi\")\n",
        "    corr = filtered_df.select_dtypes(include=['float64', 'int64']).corr()\n",
        "    fig_corr = px.imshow(corr, color_continuous_scale='RdBu_r', aspect=\"auto\")\n",
        "    st.plotly_chart(fig_corr, use_container_width=True)\n",
        "\n",
        "if __name__ == \"__main__\":\n",
        "    streamlit_app()"
      ],
      "metadata": {
        "colab": {
          "base_uri": "https://localhost:8080/"
        },
        "id": "Etr-_smPnp-s",
        "outputId": "cb803be4-3089-4e07-cf66-7ef59b81c55b"
      },
      "execution_count": null,
      "outputs": [
        {
          "output_type": "stream",
          "name": "stdout",
          "text": [
            "Writing aws2.py\n"
          ]
        }
      ]
    },
    {
      "cell_type": "code",
      "source": [
        "!streamlit run aws2.py & npx localtunnel --port 8501"
      ],
      "metadata": {
        "colab": {
          "base_uri": "https://localhost:8080/"
        },
        "id": "oWY0AwFxnsFd",
        "outputId": "2d000bed-6f93-457f-a84f-9bb7b10ddd4a"
      },
      "execution_count": null,
      "outputs": [
        {
          "metadata": {
            "tags": null
          },
          "name": "stdout",
          "output_type": "stream",
          "text": [
            "\n",
            "Collecting usage statistics. To deactivate, set browser.gatherUsageStats to False.\n",
            "\u001b[0m\n",
            "\u001b[0m\n",
            "\u001b[34m\u001b[1m  You can now view your Streamlit app in your browser.\u001b[0m\n",
            "\u001b[0m\n",
            "\u001b[34m  Network URL: \u001b[0m\u001b[1mhttp://172.28.0.12:8501\u001b[0m\n",
            "\u001b[34m  External URL: \u001b[0m\u001b[1mhttp://34.74.193.228:8501\u001b[0m\n",
            "\u001b[0m\n",
            "\u001b[K\u001b[?25hnpx: installed 22 in 4.311s\n",
            "your url is: https://fifty-wombats-flow.loca.lt\n"
          ]
        }
      ]
    }
  ]
}